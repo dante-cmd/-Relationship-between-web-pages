{
 "cells": [
  {
   "cell_type": "markdown",
   "metadata": {},
   "source": [
    "## Anonymous web data from www.microsoft.com\n",
    "\n",
    "* This dataset records which areas (Vroots) of www.microsoft.com each user visited in a one-week timeframe in Feburary 1998.\n",
    "* Source: Jack S. Breese, David Heckerman, Carl M. Kadie.\n",
    "* The data was created by sampling and processing the www.microsoft.com logs. The size of the sample was 38000 users randomly-selected.\n",
    "  * Training Instances\t32711\n",
    "  * Testing Instances\t5000\n",
    "  * Attributes\t294\n",
    "  * nonvisits are implicit (missing). 38000 - (32711 + 5000) = 289\n",
    "* More information: http://kdd.ics.uci.edu/databases/msweb/msweb.data.html"
   ]
  },
  {
   "cell_type": "markdown",
   "metadata": {},
   "source": [
    "### Data Format\n",
    "\n",
    "* Attribute lines:\n",
    "  * For example, 'A,1277,1,\"NetShow for PowerPoint\",\"/stream\"'\n",
    "    \n",
    "    Where:\n",
    "    * 'A' marks this as an attribute line, \n",
    "    * '1277' is the attribute ID number for an area of the website (called a Vroot),\n",
    "    * '1' may be ignored, \n",
    "    * '\"NetShow for PowerPoint\"' is the title of the Vroot, \n",
    "    * '\"/stream\"' is the URL relative to \"http://www.microsoft.com\"\n",
    "\n",
    "* Case and Vote Lines: For each user, there is a case line followed by zero or more vote lines.\n",
    "  * For example:\n",
    "    * C,\"10164\",10164\n",
    "    * V,1123,1\n",
    "    * V,1009,1\n",
    "    * V,1052,1\n",
    "      \n",
    "      Where:\n",
    "      *   'C' marks this as a case line, \n",
    "      *   '10164' is the case ID number of a user, \n",
    "      *   'V' marks the vote lines for this case, \n",
    "      *   '1123', 1009', 1052' are the attributes ID's of Vroots that a user visited. \n",
    "      *   '1' may be ignored"
   ]
  },
  {
   "cell_type": "markdown",
   "metadata": {},
   "source": [
    "## The goal is finding the relationship between web pages using\n",
    "\n",
    "###  Association Pathern Mining"
   ]
  },
  {
   "cell_type": "code",
   "execution_count": 2,
   "metadata": {},
   "outputs": [],
   "source": [
    "import re, requests\n",
    "import bs4\n",
    "import pandas as pd\n",
    "import numpy as np"
   ]
  },
  {
   "cell_type": "code",
   "execution_count": 2,
   "metadata": {},
   "outputs": [],
   "source": [
    "response = requests.get('http://kdd.ics.uci.edu/databases/msweb/msweb.html')\n",
    "res_bs = bs4.BeautifulSoup(response.content, 'html.parser')"
   ]
  },
  {
   "cell_type": "code",
   "execution_count": 116,
   "metadata": {},
   "outputs": [],
   "source": [
    "saved_link = []\n",
    "for a_path in res_bs.find_all('a'):\n",
    "    if a_path.get('href'):\n",
    "        #print(a_path)\n",
    "        if re.search(r'.*\\.gz', a_path.get('href')):\n",
    "            #print(a_path.get('href'))\n",
    "            #print('http://kdd.ics.uci.edu/databases/msweb/'+ i.get('href'))\n",
    "            link_to_download = 'http://kdd.ics.uci.edu/databases/msweb/'+ a_path.get('href')\n",
    "            saved_link.append(link_to_download)\n",
    "\n",
    "for link_to_download in saved_link:\n",
    "    name_file = link_to_download.split('/')[-1]\n",
    "    \n",
    "    response = requests.get(link_to_download)\n",
    "    \n",
    "    with open(f'{name_file}', 'wb') as writer:\n",
    "        writer.write(response.content)\n"
   ]
  },
  {
   "cell_type": "code",
   "execution_count": 3,
   "metadata": {},
   "outputs": [],
   "source": [
    "import gzip\n",
    "\n",
    "with gzip.open(r'C:\\Users\\LENOVO\\Desktop\\projects\\3.- STS\\anonymous-msweb.data.gz', 'rb') as reader:\n",
    "    data = reader.read()\n",
    "    \n",
    "data_dec = data.decode()"
   ]
  },
  {
   "cell_type": "code",
   "execution_count": 4,
   "metadata": {},
   "outputs": [],
   "source": [
    "data_list_attrib = re.findall(r'^C.*?(?=C|\\n$)',data_dec,  re.MULTILINE|re.DOTALL )\n",
    "data_user = pd.DataFrame()\n",
    "\n",
    "for list_attrib in data_list_attrib:\n",
    "    data_dict = {}\n",
    "    name_id = re.search(r'[\"](\\d{5})[\"]',list_attrib).group(1)\n",
    "    data_dict[name_id] = re.findall(r'\\b\\d{4}\\b',list_attrib)\n",
    "    \n",
    "    data_frame = pd.DataFrame(data_dict)\n",
    "    data_frame_melt = data_frame.melt()\n",
    "    data_user = data_user.append(data_frame_melt, ignore_index=True)\n",
    "\n",
    "data_user.columns = ['user_ID', 'attribute_ID']"
   ]
  },
  {
   "cell_type": "code",
   "execution_count": 5,
   "metadata": {},
   "outputs": [],
   "source": [
    "list_attribute = re.findall(r'A\\,(\\d{4})\\,\\d{1}\\,[\"](.*)[\"]\\,[\"](.*)[\"]',data_dec)\n",
    "data_attribute = pd.DataFrame(list_attribute, columns=['attribute_ID', 'title', 'URL'])\n",
    "data_attribute.URL = 'www.microsoft.com' + data_attribute.URL"
   ]
  },
  {
   "cell_type": "code",
   "execution_count": 6,
   "metadata": {},
   "outputs": [],
   "source": [
    "data_user_cross = pd.crosstab(data_user['user_ID'], data_user['attribute_ID'])"
   ]
  },
  {
   "cell_type": "code",
   "execution_count": 7,
   "metadata": {},
   "outputs": [],
   "source": [
    "from collections import namedtuple\n",
    "import matplotlib.pyplot as plt\n",
    "import seaborn as sns\n",
    "import time"
   ]
  },
  {
   "cell_type": "markdown",
   "metadata": {},
   "source": [
    "**Support**\n",
    "\n",
    "The support of an itemset $I$ is defined as the fraction of the transactions in the database $T = {T_1 ...T_n}$ that contain $I$ as a subset. The support of an itemset $I$ is denoted by $sup(I)$. *(Data Mining The Textbook - Charu C. Aggarwal - Springer)*"
   ]
  },
  {
   "cell_type": "markdown",
   "metadata": {},
   "source": [
    "Let $I = \\{1034\\}$, where $1034$ is the code that identify the `Internet Explorer`.\n",
    "\n",
    "Let's compute the $sup(I)$"
   ]
  },
  {
   "cell_type": "code",
   "execution_count": 8,
   "metadata": {},
   "outputs": [],
   "source": [
    "def support(code:set, df:pd.DataFrame):\n",
    "    support_of_code = (df[code] == 1).all(axis = 1).mean()\n",
    "    print(f'Support {code} = {support_of_code:.4}')\n",
    "    return support_of_code"
   ]
  },
  {
   "cell_type": "code",
   "execution_count": 9,
   "metadata": {},
   "outputs": [
    {
     "name": "stdout",
     "output_type": "stream",
     "text": [
      "Support {'1034'} = 0.2868\n"
     ]
    },
    {
     "data": {
      "text/plain": [
       "0.2868454036868332"
      ]
     },
     "execution_count": 9,
     "metadata": {},
     "output_type": "execute_result"
    }
   ],
   "source": [
    "support({'1034'}, data_user_cross)"
   ]
  },
  {
   "cell_type": "markdown",
   "metadata": {},
   "source": [
    "So, now we will apply the *Association Rule* under the definition of *confidence* \n",
    "\n",
    "**Confidence** \n",
    "\n",
    "Let $X$ and $Y$ be two sets of items. The confidence $conf(X ∪ Y )$ of the rule $X ∪ Y$ is the conditional probability of $X ∪ Y$ occurring in a transaction, given that the transaction contains $X$. Therefore, the confidence $conf(X ⇒ Y)$ is defined as follows:\n",
    "\n",
    "$$conf(X ⇒ Y) = \\frac{sup(X ∪ Y)}{sup(X)}$$\n"
   ]
  },
  {
   "cell_type": "markdown",
   "metadata": {},
   "source": [
    "Given $X = \\{1034\\}$ and $Y = \\{1008\\}$, we want to compute the $conf(X \\Rightarrow Y)$"
   ]
  },
  {
   "cell_type": "code",
   "execution_count": 10,
   "metadata": {},
   "outputs": [],
   "source": [
    "from itertools import combinations"
   ]
  },
  {
   "cell_type": "code",
   "execution_count": 11,
   "metadata": {},
   "outputs": [],
   "source": [
    "def confidence(X:set, Y:set, df:pd.DataFrame) -> float:\n",
    "    support_of_X = support(X, df)\n",
    "    XY = X.copy()\n",
    "    XY.update(Y)\n",
    "    support_of_XY = support(XY,df)\n",
    "    print(f'Confidence({X} => {Y}) = {support_of_XY/support_of_X:.4}')\n",
    "    return support_of_XY/support_of_X"
   ]
  },
  {
   "cell_type": "code",
   "execution_count": 12,
   "metadata": {},
   "outputs": [
    {
     "name": "stdout",
     "output_type": "stream",
     "text": [
      "Support {'1034'} = 0.2868\n",
      "Support {'1034', '1008'} = 0.1608\n",
      "Confidence({'1034'} => {'1008'}) = 0.5606\n"
     ]
    },
    {
     "data": {
      "text/plain": [
       "0.5605882979857189"
      ]
     },
     "execution_count": 12,
     "metadata": {},
     "output_type": "execute_result"
    }
   ],
   "source": [
    "confidence({'1034'}, {'1008'},data_user_cross )"
   ]
  },
  {
   "cell_type": "code",
   "execution_count": 13,
   "metadata": {},
   "outputs": [],
   "source": [
    "def all_support_by_pair(df:pd.DataFrame) -> pd.DataFrame:\n",
    "    \"\"\"\n",
    "    \n",
    "    --------------------\n",
    "    \"\"\"\n",
    "    df_group = df.groupby(['user_ID'])\n",
    "    data_to = pd.DataFrame()\n",
    "    \n",
    "    for user in df['user_ID'].unique(): #[:200]:\n",
    "        data_dict = {}\n",
    "        attribute_ID_by_user = df_group.get_group(user)['attribute_ID']\n",
    "        data_dict[user] =[*combinations(attribute_ID_by_user, 2)]\n",
    "        data_frame = pd.DataFrame(data_dict).melt()\n",
    "        data_to = data_to.append(data_frame, ignore_index=True)\n",
    "    \n",
    "    data_to.columns = ['user_ID', 'Support(X U Y)']\n",
    "    data_to['Support(X U Y)'] = data_to['Support(X U Y)'].apply(lambda x:tuple(sorted(x)))\n",
    "    data_to_support = data_to['Support(X U Y)'].value_counts()/len(df['user_ID'].unique())\n",
    "    data_to_support = data_to_support.reset_index()\n",
    "    data_to_support = data_to_support.rename(columns={'index':'PairPage'})\n",
    "    \n",
    "    return  data_to_support"
   ]
  },
  {
   "cell_type": "code",
   "execution_count": 14,
   "metadata": {},
   "outputs": [],
   "source": [
    "data_visit = all_support_by_pair(data_user)"
   ]
  },
  {
   "cell_type": "code",
   "execution_count": 15,
   "metadata": {},
   "outputs": [],
   "source": [
    "def all_support_by_one(df:pd.DataFrame) -> pd.DataFrame:\n",
    "    df_support_one = df.attribute_ID.value_counts()/len(df.user_ID.unique())\n",
    "\n",
    "    \"\"\" \n",
    "    The goal of this function is \n",
    "    \"\"\"\n",
    "    df_support_one = df_support_one.reset_index()\n",
    "    df_support_one.columns = ['', 'Support']\n",
    "\n",
    "    return df_support_one"
   ]
  },
  {
   "cell_type": "code",
   "execution_count": 16,
   "metadata": {},
   "outputs": [],
   "source": [
    "data_support_one = all_support_by_one(data_user)"
   ]
  },
  {
   "cell_type": "code",
   "execution_count": 17,
   "metadata": {},
   "outputs": [
    {
     "data": {
      "image/png": "[encoded data removed]",
      "text/plain": [
       "<Figure size 720x504 with 1 Axes>"
      ]
     },
     "metadata": {
      "needs_background": "light"
     },
     "output_type": "display_data"
    }
   ],
   "source": [
    "from matplotlib import cm \n",
    "\n",
    "fig, ax = plt.subplots(figsize = (10, 7))\n",
    "data_visit_to_plot = data_visit.sort_values('Support(X U Y)', ascending=True)\n",
    "x, y = data_visit_to_plot['PairPage'].str.get(0).astype(int), data_visit_to_plot['PairPage'].str.get(1).astype(int)\n",
    "s = data_visit_to_plot['Support(X U Y)'].copy()\n",
    "\n",
    "ax.scatter(x, y,c = s, s = s*20000 ,cmap = cm.rainbow , alpha = 0.5 ) # c = c,\n",
    "ax.set(xlabel='Page $1$', ylabel='Page $2$', title = 'Support(X U Y)')\n",
    "x_s, y_s = [1008, 1008], [1034, 1009] \n",
    "texts = ['(Free Downloads,\\n Internet Explorer)', '(Free Downloads,\\n Windows Family of OSs)' ]\n",
    "for x_t, y_t, txt in zip(x_s, y_s, texts): \n",
    "    ax.text(x_t, y_t, txt, color = 'white',ha = 'center', va = 'center' , fontsize = 8)\n",
    "plt.show()"
   ]
  },
  {
   "cell_type": "code",
   "execution_count": 18,
   "metadata": {},
   "outputs": [
    {
     "data": {
      "text/plain": [
       "values        0.160802\n",
       "Pages     (1008, 1034)\n",
       "Name: Support(X U Y), dtype: object"
      ]
     },
     "execution_count": 18,
     "metadata": {},
     "output_type": "execute_result"
    }
   ],
   "source": [
    "data_visit.set_index('PairPage')['Support(X U Y)'].agg(values=max, Pages = lambda x:x.idxmax())"
   ]
  },
  {
   "cell_type": "markdown",
   "metadata": {},
   "source": [
    "The pair of web pages most visited was `Free Downloads and Internet Explores`. \n",
    "\n",
    "The $16.08\\%$ of the visits that did the people selected were made up of this combination of web pages."
   ]
  },
  {
   "cell_type": "code",
   "execution_count": 19,
   "metadata": {},
   "outputs": [],
   "source": [
    "data_visit['X'] = data_visit.PairPage.str.get(0)\n",
    "data_visit['Y'] = data_visit.PairPage.str.get(1)"
   ]
  },
  {
   "cell_type": "code",
   "execution_count": 20,
   "metadata": {},
   "outputs": [],
   "source": [
    "data_support_one_X = data_support_one.add_suffix('X')\n",
    "data_support_one_Y = data_support_one.add_suffix('Y')"
   ]
  },
  {
   "cell_type": "code",
   "execution_count": 21,
   "metadata": {},
   "outputs": [],
   "source": [
    "data_visit_all = data_visit.merge(data_support_one_X, on = 'X').merge(data_support_one_Y, on = 'Y')"
   ]
  },
  {
   "cell_type": "code",
   "execution_count": 22,
   "metadata": {},
   "outputs": [],
   "source": [
    "data_visit_all['Support(X U Y)/SupportX'] = data_visit_all['Support(X U Y)'] /data_visit_all['SupportX']\n",
    "data_visit_all['Support(X U Y)/SupportY'] = data_visit_all['Support(X U Y)'] /data_visit_all['SupportY']"
   ]
  },
  {
   "cell_type": "code",
   "execution_count": 23,
   "metadata": {},
   "outputs": [
    {
     "data": {
      "text/html": [
       "<div>\n",
       "<style scoped>\n",
       "    .dataframe tbody tr th:only-of-type {\n",
       "        vertical-align: middle;\n",
       "    }\n",
       "\n",
       "    .dataframe tbody tr th {\n",
       "        vertical-align: top;\n",
       "    }\n",
       "\n",
       "    .dataframe thead th {\n",
       "        text-align: right;\n",
       "    }\n",
       "</style>\n",
       "<table border=\"1\" class=\"dataframe\">\n",
       "  <thead>\n",
       "    <tr style=\"text-align: right;\">\n",
       "      <th></th>\n",
       "      <th>PairPage</th>\n",
       "      <th>Support(X U Y)</th>\n",
       "      <th>X</th>\n",
       "      <th>Y</th>\n",
       "      <th>SupportX</th>\n",
       "      <th>SupportY</th>\n",
       "      <th>Support(X U Y)/SupportX</th>\n",
       "      <th>Support(X U Y)/SupportY</th>\n",
       "    </tr>\n",
       "  </thead>\n",
       "  <tbody>\n",
       "    <tr>\n",
       "      <th>0</th>\n",
       "      <td>(1008, 1034)</td>\n",
       "      <td>0.160802</td>\n",
       "      <td>1008</td>\n",
       "      <td>1034</td>\n",
       "      <td>0.331265</td>\n",
       "      <td>0.286845</td>\n",
       "      <td>0.485419</td>\n",
       "      <td>0.560588</td>\n",
       "    </tr>\n",
       "    <tr>\n",
       "      <th>43</th>\n",
       "      <td>(1008, 1018)</td>\n",
       "      <td>0.073064</td>\n",
       "      <td>1008</td>\n",
       "      <td>1018</td>\n",
       "      <td>0.331265</td>\n",
       "      <td>0.162942</td>\n",
       "      <td>0.220561</td>\n",
       "      <td>0.448405</td>\n",
       "    </tr>\n",
       "    <tr>\n",
       "      <th>61</th>\n",
       "      <td>(1008, 1017)</td>\n",
       "      <td>0.061233</td>\n",
       "      <td>1008</td>\n",
       "      <td>1017</td>\n",
       "      <td>0.331265</td>\n",
       "      <td>0.156155</td>\n",
       "      <td>0.184847</td>\n",
       "      <td>0.392130</td>\n",
       "    </tr>\n",
       "    <tr>\n",
       "      <th>62</th>\n",
       "      <td>(1004, 1017)</td>\n",
       "      <td>0.049891</td>\n",
       "      <td>1004</td>\n",
       "      <td>1017</td>\n",
       "      <td>0.258720</td>\n",
       "      <td>0.156155</td>\n",
       "      <td>0.192839</td>\n",
       "      <td>0.319499</td>\n",
       "    </tr>\n",
       "    <tr>\n",
       "      <th>44</th>\n",
       "      <td>(1004, 1018)</td>\n",
       "      <td>0.044786</td>\n",
       "      <td>1004</td>\n",
       "      <td>1018</td>\n",
       "      <td>0.258720</td>\n",
       "      <td>0.162942</td>\n",
       "      <td>0.173106</td>\n",
       "      <td>0.274859</td>\n",
       "    </tr>\n",
       "    <tr>\n",
       "      <th>46</th>\n",
       "      <td>(1017, 1018)</td>\n",
       "      <td>0.036838</td>\n",
       "      <td>1017</td>\n",
       "      <td>1018</td>\n",
       "      <td>0.156155</td>\n",
       "      <td>0.162942</td>\n",
       "      <td>0.235904</td>\n",
       "      <td>0.226079</td>\n",
       "    </tr>\n",
       "    <tr>\n",
       "      <th>1</th>\n",
       "      <td>(1004, 1034)</td>\n",
       "      <td>0.053285</td>\n",
       "      <td>1004</td>\n",
       "      <td>1034</td>\n",
       "      <td>0.258720</td>\n",
       "      <td>0.286845</td>\n",
       "      <td>0.205955</td>\n",
       "      <td>0.185761</td>\n",
       "    </tr>\n",
       "    <tr>\n",
       "      <th>11208</th>\n",
       "      <td>(1004, 1008)</td>\n",
       "      <td>0.060438</td>\n",
       "      <td>1004</td>\n",
       "      <td>1008</td>\n",
       "      <td>0.258720</td>\n",
       "      <td>0.331265</td>\n",
       "      <td>0.233605</td>\n",
       "      <td>0.182447</td>\n",
       "    </tr>\n",
       "    <tr>\n",
       "      <th>3</th>\n",
       "      <td>(1017, 1034)</td>\n",
       "      <td>0.047354</td>\n",
       "      <td>1017</td>\n",
       "      <td>1034</td>\n",
       "      <td>0.156155</td>\n",
       "      <td>0.286845</td>\n",
       "      <td>0.303250</td>\n",
       "      <td>0.165086</td>\n",
       "    </tr>\n",
       "    <tr>\n",
       "      <th>5</th>\n",
       "      <td>(1018, 1034)</td>\n",
       "      <td>0.042982</td>\n",
       "      <td>1018</td>\n",
       "      <td>1034</td>\n",
       "      <td>0.162942</td>\n",
       "      <td>0.286845</td>\n",
       "      <td>0.263790</td>\n",
       "      <td>0.149845</td>\n",
       "    </tr>\n",
       "  </tbody>\n",
       "</table>\n",
       "</div>"
      ],
      "text/plain": [
       "           PairPage  Support(X U Y)     X     Y  SupportX  SupportY  \\\n",
       "0      (1008, 1034)        0.160802  1008  1034  0.331265  0.286845   \n",
       "43     (1008, 1018)        0.073064  1008  1018  0.331265  0.162942   \n",
       "61     (1008, 1017)        0.061233  1008  1017  0.331265  0.156155   \n",
       "62     (1004, 1017)        0.049891  1004  1017  0.258720  0.156155   \n",
       "44     (1004, 1018)        0.044786  1004  1018  0.258720  0.162942   \n",
       "46     (1017, 1018)        0.036838  1017  1018  0.156155  0.162942   \n",
       "1      (1004, 1034)        0.053285  1004  1034  0.258720  0.286845   \n",
       "11208  (1004, 1008)        0.060438  1004  1008  0.258720  0.331265   \n",
       "3      (1017, 1034)        0.047354  1017  1034  0.156155  0.286845   \n",
       "5      (1018, 1034)        0.042982  1018  1034  0.162942  0.286845   \n",
       "\n",
       "       Support(X U Y)/SupportX  Support(X U Y)/SupportY  \n",
       "0                     0.485419                 0.560588  \n",
       "43                    0.220561                 0.448405  \n",
       "61                    0.184847                 0.392130  \n",
       "62                    0.192839                 0.319499  \n",
       "44                    0.173106                 0.274859  \n",
       "46                    0.235904                 0.226079  \n",
       "1                     0.205955                 0.185761  \n",
       "11208                 0.233605                 0.182447  \n",
       "3                     0.303250                 0.165086  \n",
       "5                     0.263790                 0.149845  "
      ]
     },
     "execution_count": 23,
     "metadata": {},
     "output_type": "execute_result"
    }
   ],
   "source": [
    "data_visit_all.loc[\n",
    "    (data_visit_all['SupportX']>0.15)&\n",
    "    (data_visit_all['SupportY']>0.15), :].sort_values('Support(X U Y)/SupportY', axis = 0, ascending=False)"
   ]
  },
  {
   "cell_type": "code",
   "execution_count": 24,
   "metadata": {},
   "outputs": [
    {
     "name": "stdout",
     "output_type": "stream",
     "text": [
      "Support {'1008'} = 0.3313\n",
      "Support {'1034', '1008'} = 0.1608\n",
      "Confidence({'1008'} => {'1034'}) = 0.4854\n"
     ]
    },
    {
     "data": {
      "text/plain": [
       "0.4854189737910668"
      ]
     },
     "execution_count": 24,
     "metadata": {},
     "output_type": "execute_result"
    }
   ],
   "source": [
    "confidence({'1008'}, {'1034'},data_user_cross )"
   ]
  },
  {
   "cell_type": "markdown",
   "metadata": {},
   "source": [
    "# Model"
   ]
  },
  {
   "cell_type": "markdown",
   "metadata": {},
   "source": [
    "For this purpose, we will choice the best model for classification"
   ]
  },
  {
   "cell_type": "code",
   "execution_count": 28,
   "metadata": {},
   "outputs": [],
   "source": [
    "data_total = data_attribute.merge(data_user, on = \"attribute_ID\")\n",
    "\n",
    "data_total.to_csv('data_microsoft.csv', sep =',', index = False)"
   ]
  },
  {
   "cell_type": "code",
   "execution_count": 29,
   "metadata": {},
   "outputs": [],
   "source": [
    "data_total = pd.read_csv('data_microsoft.csv', sep=',')"
   ]
  },
  {
   "cell_type": "code",
   "execution_count": 30,
   "metadata": {},
   "outputs": [
    {
     "data": {
      "text/plain": [
       "user_ID\n",
       "10001    3\n",
       "10002    2\n",
       "10003    3\n",
       "10004    1\n",
       "10005    1\n",
       "        ..\n",
       "42707    6\n",
       "42708    6\n",
       "42709    2\n",
       "42710    3\n",
       "42711    1\n",
       "Name: attribute_ID, Length: 32711, dtype: int64"
      ]
     },
     "execution_count": 30,
     "metadata": {},
     "output_type": "execute_result"
    }
   ],
   "source": [
    "data_total.groupby('user_ID')['attribute_ID'].count()"
   ]
  },
  {
   "cell_type": "code",
   "execution_count": 10,
   "metadata": {},
   "outputs": [
    {
     "data": {
      "text/html": [
       "<div>\n",
       "<style scoped>\n",
       "    .dataframe tbody tr th:only-of-type {\n",
       "        vertical-align: middle;\n",
       "    }\n",
       "\n",
       "    .dataframe tbody tr th {\n",
       "        vertical-align: top;\n",
       "    }\n",
       "\n",
       "    .dataframe thead th {\n",
       "        text-align: right;\n",
       "    }\n",
       "</style>\n",
       "<table border=\"1\" class=\"dataframe\">\n",
       "  <thead>\n",
       "    <tr style=\"text-align: right;\">\n",
       "      <th></th>\n",
       "      <th>attribute_ID</th>\n",
       "      <th>title</th>\n",
       "      <th>URL</th>\n",
       "      <th>user_ID</th>\n",
       "    </tr>\n",
       "  </thead>\n",
       "  <tbody>\n",
       "    <tr>\n",
       "      <th>70189</th>\n",
       "      <td>1002</td>\n",
       "      <td>\"End User Produced View\"</td>\n",
       "      <td>http://www.microsoft.com/athome</td>\n",
       "      <td>10001</td>\n",
       "    </tr>\n",
       "    <tr>\n",
       "      <th>80199</th>\n",
       "      <td>1000</td>\n",
       "      <td>\"regwiz\"</td>\n",
       "      <td>http://www.microsoft.com/regwiz</td>\n",
       "      <td>10001</td>\n",
       "    </tr>\n",
       "    <tr>\n",
       "      <th>34683</th>\n",
       "      <td>1001</td>\n",
       "      <td>\"Support Desktop\"</td>\n",
       "      <td>http://www.microsoft.com/support</td>\n",
       "      <td>10001</td>\n",
       "    </tr>\n",
       "    <tr>\n",
       "      <th>13576</th>\n",
       "      <td>1003</td>\n",
       "      <td>\"Knowledge Base\"</td>\n",
       "      <td>http://www.microsoft.com/kb</td>\n",
       "      <td>10002</td>\n",
       "    </tr>\n",
       "    <tr>\n",
       "      <th>34684</th>\n",
       "      <td>1001</td>\n",
       "      <td>\"Support Desktop\"</td>\n",
       "      <td>http://www.microsoft.com/support</td>\n",
       "      <td>10002</td>\n",
       "    </tr>\n",
       "    <tr>\n",
       "      <th>...</th>\n",
       "      <td>...</td>\n",
       "      <td>...</td>\n",
       "      <td>...</td>\n",
       "      <td>...</td>\n",
       "    </tr>\n",
       "    <tr>\n",
       "      <th>39132</th>\n",
       "      <td>1001</td>\n",
       "      <td>\"Support Desktop\"</td>\n",
       "      <td>http://www.microsoft.com/support</td>\n",
       "      <td>42709</td>\n",
       "    </tr>\n",
       "    <tr>\n",
       "      <th>16543</th>\n",
       "      <td>1003</td>\n",
       "      <td>\"Knowledge Base\"</td>\n",
       "      <td>http://www.microsoft.com/kb</td>\n",
       "      <td>42709</td>\n",
       "    </tr>\n",
       "    <tr>\n",
       "      <th>39133</th>\n",
       "      <td>1001</td>\n",
       "      <td>\"Support Desktop\"</td>\n",
       "      <td>http://www.microsoft.com/support</td>\n",
       "      <td>42710</td>\n",
       "    </tr>\n",
       "    <tr>\n",
       "      <th>97205</th>\n",
       "      <td>1018</td>\n",
       "      <td>\"isapi\"</td>\n",
       "      <td>http://www.microsoft.com/isapi</td>\n",
       "      <td>42710</td>\n",
       "    </tr>\n",
       "    <tr>\n",
       "      <th>57898</th>\n",
       "      <td>1035</td>\n",
       "      <td>\"Windows95 Support\"</td>\n",
       "      <td>http://www.microsoft.com/windowssupport</td>\n",
       "      <td>42710</td>\n",
       "    </tr>\n",
       "  </tbody>\n",
       "</table>\n",
       "<p>98653 rows × 4 columns</p>\n",
       "</div>"
      ],
      "text/plain": [
       "       attribute_ID                     title  \\\n",
       "70189          1002  \"End User Produced View\"   \n",
       "80199          1000                  \"regwiz\"   \n",
       "34683          1001         \"Support Desktop\"   \n",
       "13576          1003          \"Knowledge Base\"   \n",
       "34684          1001         \"Support Desktop\"   \n",
       "...             ...                       ...   \n",
       "39132          1001         \"Support Desktop\"   \n",
       "16543          1003          \"Knowledge Base\"   \n",
       "39133          1001         \"Support Desktop\"   \n",
       "97205          1018                   \"isapi\"   \n",
       "57898          1035       \"Windows95 Support\"   \n",
       "\n",
       "                                           URL  user_ID  \n",
       "70189          http://www.microsoft.com/athome    10001  \n",
       "80199          http://www.microsoft.com/regwiz    10001  \n",
       "34683         http://www.microsoft.com/support    10001  \n",
       "13576              http://www.microsoft.com/kb    10002  \n",
       "34684         http://www.microsoft.com/support    10002  \n",
       "...                                        ...      ...  \n",
       "39132         http://www.microsoft.com/support    42709  \n",
       "16543              http://www.microsoft.com/kb    42709  \n",
       "39133         http://www.microsoft.com/support    42710  \n",
       "97205           http://www.microsoft.com/isapi    42710  \n",
       "57898  http://www.microsoft.com/windowssupport    42710  \n",
       "\n",
       "[98653 rows x 4 columns]"
      ]
     },
     "execution_count": 10,
     "metadata": {},
     "output_type": "execute_result"
    }
   ],
   "source": [
    "data_total.sort_values('user_ID')"
   ]
  },
  {
   "cell_type": "code",
   "execution_count": 12,
   "metadata": {},
   "outputs": [],
   "source": [
    "cross_user_attr = pd.crosstab(data_total['user_ID'], data_total['attribute_ID'])"
   ]
  },
  {
   "cell_type": "code",
   "execution_count": 13,
   "metadata": {},
   "outputs": [
    {
     "data": {
      "text/html": [
       "<div>\n",
       "<style scoped>\n",
       "    .dataframe tbody tr th:only-of-type {\n",
       "        vertical-align: middle;\n",
       "    }\n",
       "\n",
       "    .dataframe tbody tr th {\n",
       "        vertical-align: top;\n",
       "    }\n",
       "\n",
       "    .dataframe thead th {\n",
       "        text-align: right;\n",
       "    }\n",
       "</style>\n",
       "<table border=\"1\" class=\"dataframe\">\n",
       "  <thead>\n",
       "    <tr style=\"text-align: right;\">\n",
       "      <th>attribute_ID</th>\n",
       "      <th>1000</th>\n",
       "      <th>1001</th>\n",
       "      <th>1002</th>\n",
       "      <th>1003</th>\n",
       "      <th>1004</th>\n",
       "      <th>1005</th>\n",
       "      <th>1006</th>\n",
       "      <th>1007</th>\n",
       "      <th>1008</th>\n",
       "      <th>1009</th>\n",
       "      <th>...</th>\n",
       "      <th>1276</th>\n",
       "      <th>1277</th>\n",
       "      <th>1278</th>\n",
       "      <th>1279</th>\n",
       "      <th>1280</th>\n",
       "      <th>1281</th>\n",
       "      <th>1282</th>\n",
       "      <th>1283</th>\n",
       "      <th>1284</th>\n",
       "      <th>1295</th>\n",
       "    </tr>\n",
       "    <tr>\n",
       "      <th>user_ID</th>\n",
       "      <th></th>\n",
       "      <th></th>\n",
       "      <th></th>\n",
       "      <th></th>\n",
       "      <th></th>\n",
       "      <th></th>\n",
       "      <th></th>\n",
       "      <th></th>\n",
       "      <th></th>\n",
       "      <th></th>\n",
       "      <th></th>\n",
       "      <th></th>\n",
       "      <th></th>\n",
       "      <th></th>\n",
       "      <th></th>\n",
       "      <th></th>\n",
       "      <th></th>\n",
       "      <th></th>\n",
       "      <th></th>\n",
       "      <th></th>\n",
       "      <th></th>\n",
       "    </tr>\n",
       "  </thead>\n",
       "  <tbody>\n",
       "    <tr>\n",
       "      <th>10001</th>\n",
       "      <td>1</td>\n",
       "      <td>1</td>\n",
       "      <td>1</td>\n",
       "      <td>0</td>\n",
       "      <td>0</td>\n",
       "      <td>0</td>\n",
       "      <td>0</td>\n",
       "      <td>0</td>\n",
       "      <td>0</td>\n",
       "      <td>0</td>\n",
       "      <td>...</td>\n",
       "      <td>0</td>\n",
       "      <td>0</td>\n",
       "      <td>0</td>\n",
       "      <td>0</td>\n",
       "      <td>0</td>\n",
       "      <td>0</td>\n",
       "      <td>0</td>\n",
       "      <td>0</td>\n",
       "      <td>0</td>\n",
       "      <td>0</td>\n",
       "    </tr>\n",
       "    <tr>\n",
       "      <th>10002</th>\n",
       "      <td>0</td>\n",
       "      <td>1</td>\n",
       "      <td>0</td>\n",
       "      <td>1</td>\n",
       "      <td>0</td>\n",
       "      <td>0</td>\n",
       "      <td>0</td>\n",
       "      <td>0</td>\n",
       "      <td>0</td>\n",
       "      <td>0</td>\n",
       "      <td>...</td>\n",
       "      <td>0</td>\n",
       "      <td>0</td>\n",
       "      <td>0</td>\n",
       "      <td>0</td>\n",
       "      <td>0</td>\n",
       "      <td>0</td>\n",
       "      <td>0</td>\n",
       "      <td>0</td>\n",
       "      <td>0</td>\n",
       "      <td>0</td>\n",
       "    </tr>\n",
       "    <tr>\n",
       "      <th>10003</th>\n",
       "      <td>0</td>\n",
       "      <td>1</td>\n",
       "      <td>0</td>\n",
       "      <td>1</td>\n",
       "      <td>1</td>\n",
       "      <td>0</td>\n",
       "      <td>0</td>\n",
       "      <td>0</td>\n",
       "      <td>0</td>\n",
       "      <td>0</td>\n",
       "      <td>...</td>\n",
       "      <td>0</td>\n",
       "      <td>0</td>\n",
       "      <td>0</td>\n",
       "      <td>0</td>\n",
       "      <td>0</td>\n",
       "      <td>0</td>\n",
       "      <td>0</td>\n",
       "      <td>0</td>\n",
       "      <td>0</td>\n",
       "      <td>0</td>\n",
       "    </tr>\n",
       "    <tr>\n",
       "      <th>10004</th>\n",
       "      <td>0</td>\n",
       "      <td>0</td>\n",
       "      <td>0</td>\n",
       "      <td>0</td>\n",
       "      <td>0</td>\n",
       "      <td>1</td>\n",
       "      <td>0</td>\n",
       "      <td>0</td>\n",
       "      <td>0</td>\n",
       "      <td>0</td>\n",
       "      <td>...</td>\n",
       "      <td>0</td>\n",
       "      <td>0</td>\n",
       "      <td>0</td>\n",
       "      <td>0</td>\n",
       "      <td>0</td>\n",
       "      <td>0</td>\n",
       "      <td>0</td>\n",
       "      <td>0</td>\n",
       "      <td>0</td>\n",
       "      <td>0</td>\n",
       "    </tr>\n",
       "    <tr>\n",
       "      <th>10005</th>\n",
       "      <td>0</td>\n",
       "      <td>0</td>\n",
       "      <td>0</td>\n",
       "      <td>0</td>\n",
       "      <td>0</td>\n",
       "      <td>0</td>\n",
       "      <td>1</td>\n",
       "      <td>0</td>\n",
       "      <td>0</td>\n",
       "      <td>0</td>\n",
       "      <td>...</td>\n",
       "      <td>0</td>\n",
       "      <td>0</td>\n",
       "      <td>0</td>\n",
       "      <td>0</td>\n",
       "      <td>0</td>\n",
       "      <td>0</td>\n",
       "      <td>0</td>\n",
       "      <td>0</td>\n",
       "      <td>0</td>\n",
       "      <td>0</td>\n",
       "    </tr>\n",
       "    <tr>\n",
       "      <th>...</th>\n",
       "      <td>...</td>\n",
       "      <td>...</td>\n",
       "      <td>...</td>\n",
       "      <td>...</td>\n",
       "      <td>...</td>\n",
       "      <td>...</td>\n",
       "      <td>...</td>\n",
       "      <td>...</td>\n",
       "      <td>...</td>\n",
       "      <td>...</td>\n",
       "      <td>...</td>\n",
       "      <td>...</td>\n",
       "      <td>...</td>\n",
       "      <td>...</td>\n",
       "      <td>...</td>\n",
       "      <td>...</td>\n",
       "      <td>...</td>\n",
       "      <td>...</td>\n",
       "      <td>...</td>\n",
       "      <td>...</td>\n",
       "      <td>...</td>\n",
       "    </tr>\n",
       "    <tr>\n",
       "      <th>42706</th>\n",
       "      <td>0</td>\n",
       "      <td>1</td>\n",
       "      <td>0</td>\n",
       "      <td>1</td>\n",
       "      <td>1</td>\n",
       "      <td>0</td>\n",
       "      <td>0</td>\n",
       "      <td>0</td>\n",
       "      <td>0</td>\n",
       "      <td>0</td>\n",
       "      <td>...</td>\n",
       "      <td>0</td>\n",
       "      <td>0</td>\n",
       "      <td>0</td>\n",
       "      <td>0</td>\n",
       "      <td>0</td>\n",
       "      <td>0</td>\n",
       "      <td>0</td>\n",
       "      <td>0</td>\n",
       "      <td>0</td>\n",
       "      <td>0</td>\n",
       "    </tr>\n",
       "    <tr>\n",
       "      <th>42707</th>\n",
       "      <td>0</td>\n",
       "      <td>0</td>\n",
       "      <td>0</td>\n",
       "      <td>0</td>\n",
       "      <td>1</td>\n",
       "      <td>0</td>\n",
       "      <td>0</td>\n",
       "      <td>0</td>\n",
       "      <td>1</td>\n",
       "      <td>1</td>\n",
       "      <td>...</td>\n",
       "      <td>0</td>\n",
       "      <td>0</td>\n",
       "      <td>0</td>\n",
       "      <td>0</td>\n",
       "      <td>0</td>\n",
       "      <td>0</td>\n",
       "      <td>0</td>\n",
       "      <td>0</td>\n",
       "      <td>0</td>\n",
       "      <td>0</td>\n",
       "    </tr>\n",
       "    <tr>\n",
       "      <th>42708</th>\n",
       "      <td>0</td>\n",
       "      <td>0</td>\n",
       "      <td>0</td>\n",
       "      <td>0</td>\n",
       "      <td>0</td>\n",
       "      <td>0</td>\n",
       "      <td>0</td>\n",
       "      <td>0</td>\n",
       "      <td>1</td>\n",
       "      <td>0</td>\n",
       "      <td>...</td>\n",
       "      <td>0</td>\n",
       "      <td>0</td>\n",
       "      <td>0</td>\n",
       "      <td>0</td>\n",
       "      <td>0</td>\n",
       "      <td>0</td>\n",
       "      <td>0</td>\n",
       "      <td>0</td>\n",
       "      <td>0</td>\n",
       "      <td>0</td>\n",
       "    </tr>\n",
       "    <tr>\n",
       "      <th>42709</th>\n",
       "      <td>0</td>\n",
       "      <td>1</td>\n",
       "      <td>0</td>\n",
       "      <td>1</td>\n",
       "      <td>0</td>\n",
       "      <td>0</td>\n",
       "      <td>0</td>\n",
       "      <td>0</td>\n",
       "      <td>0</td>\n",
       "      <td>0</td>\n",
       "      <td>...</td>\n",
       "      <td>0</td>\n",
       "      <td>0</td>\n",
       "      <td>0</td>\n",
       "      <td>0</td>\n",
       "      <td>0</td>\n",
       "      <td>0</td>\n",
       "      <td>0</td>\n",
       "      <td>0</td>\n",
       "      <td>0</td>\n",
       "      <td>0</td>\n",
       "    </tr>\n",
       "    <tr>\n",
       "      <th>42710</th>\n",
       "      <td>0</td>\n",
       "      <td>1</td>\n",
       "      <td>0</td>\n",
       "      <td>0</td>\n",
       "      <td>0</td>\n",
       "      <td>0</td>\n",
       "      <td>0</td>\n",
       "      <td>0</td>\n",
       "      <td>0</td>\n",
       "      <td>0</td>\n",
       "      <td>...</td>\n",
       "      <td>0</td>\n",
       "      <td>0</td>\n",
       "      <td>0</td>\n",
       "      <td>0</td>\n",
       "      <td>0</td>\n",
       "      <td>0</td>\n",
       "      <td>0</td>\n",
       "      <td>0</td>\n",
       "      <td>0</td>\n",
       "      <td>0</td>\n",
       "    </tr>\n",
       "  </tbody>\n",
       "</table>\n",
       "<p>32710 rows × 285 columns</p>\n",
       "</div>"
      ],
      "text/plain": [
       "attribute_ID  1000  1001  1002  1003  1004  1005  1006  1007  1008  1009  ...  \\\n",
       "user_ID                                                                   ...   \n",
       "10001            1     1     1     0     0     0     0     0     0     0  ...   \n",
       "10002            0     1     0     1     0     0     0     0     0     0  ...   \n",
       "10003            0     1     0     1     1     0     0     0     0     0  ...   \n",
       "10004            0     0     0     0     0     1     0     0     0     0  ...   \n",
       "10005            0     0     0     0     0     0     1     0     0     0  ...   \n",
       "...            ...   ...   ...   ...   ...   ...   ...   ...   ...   ...  ...   \n",
       "42706            0     1     0     1     1     0     0     0     0     0  ...   \n",
       "42707            0     0     0     0     1     0     0     0     1     1  ...   \n",
       "42708            0     0     0     0     0     0     0     0     1     0  ...   \n",
       "42709            0     1     0     1     0     0     0     0     0     0  ...   \n",
       "42710            0     1     0     0     0     0     0     0     0     0  ...   \n",
       "\n",
       "attribute_ID  1276  1277  1278  1279  1280  1281  1282  1283  1284  1295  \n",
       "user_ID                                                                   \n",
       "10001            0     0     0     0     0     0     0     0     0     0  \n",
       "10002            0     0     0     0     0     0     0     0     0     0  \n",
       "10003            0     0     0     0     0     0     0     0     0     0  \n",
       "10004            0     0     0     0     0     0     0     0     0     0  \n",
       "10005            0     0     0     0     0     0     0     0     0     0  \n",
       "...            ...   ...   ...   ...   ...   ...   ...   ...   ...   ...  \n",
       "42706            0     0     0     0     0     0     0     0     0     0  \n",
       "42707            0     0     0     0     0     0     0     0     0     0  \n",
       "42708            0     0     0     0     0     0     0     0     0     0  \n",
       "42709            0     0     0     0     0     0     0     0     0     0  \n",
       "42710            0     0     0     0     0     0     0     0     0     0  \n",
       "\n",
       "[32710 rows x 285 columns]"
      ]
     },
     "execution_count": 13,
     "metadata": {},
     "output_type": "execute_result"
    }
   ],
   "source": [
    "cross_user_attr"
   ]
  },
  {
   "cell_type": "code",
   "execution_count": null,
   "metadata": {},
   "outputs": [],
   "source": []
  },
  {
   "cell_type": "code",
   "execution_count": null,
   "metadata": {},
   "outputs": [],
   "source": []
  },
  {
   "cell_type": "code",
   "execution_count": null,
   "metadata": {},
   "outputs": [],
   "source": []
  },
  {
   "cell_type": "markdown",
   "metadata": {},
   "source": [
    "References\n",
    "* *Introduction to Probability Second Edition* - CHAPMAN & HALL/CRC Texts in Statistical Science Series Joseph K. Blitzstein, Harvard University, USA Julian J. Faraway, University of Bath, UK Martin Tanner, Northwestern University, USA Jim Zidek, University of British Columbia, Canada"
   ]
  }
 ],
 "metadata": {
  "interpreter": {
   "hash": "7679c2132d3f6ce38c9df14d554b39c06862b36a4e6689c81f9ae15bd0911d7d"
  },
  "kernelspec": {
   "display_name": "Python 3.9.7 ('base')",
   "language": "python",
   "name": "python3"
  },
  "language_info": {
   "codemirror_mode": {
    "name": "ipython",
    "version": 3
   },
   "file_extension": ".py",
   "mimetype": "text/x-python",
   "name": "python",
   "nbconvert_exporter": "python",
   "pygments_lexer": "ipython3",
   "version": "3.9.7"
  }
 },
 "nbformat": 4,
 "nbformat_minor": 2
}
